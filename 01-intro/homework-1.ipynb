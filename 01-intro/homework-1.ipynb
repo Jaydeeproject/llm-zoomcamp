{
 "cells": [
  {
   "cell_type": "code",
   "execution_count": 1,
   "id": "1a44cd04-0f16-4d07-911f-fd02d5b4c222",
   "metadata": {},
   "outputs": [],
   "source": [
    "import openai"
   ]
  },
  {
   "cell_type": "code",
   "execution_count": 2,
   "id": "3cc3019e-6418-4d42-93f4-be6198b6529a",
   "metadata": {},
   "outputs": [],
   "source": [
    "from openai import OpenAI"
   ]
  },
  {
   "cell_type": "code",
   "execution_count": 3,
   "id": "4556d129-c971-4196-8784-20be4e4fde32",
   "metadata": {},
   "outputs": [],
   "source": [
    "client = OpenAI()"
   ]
  },
  {
   "cell_type": "code",
   "execution_count": 4,
   "id": "4d7800c0-651e-495b-9ddc-7fc281977da9",
   "metadata": {},
   "outputs": [],
   "source": [
    "import os, sys"
   ]
  },
  {
   "cell_type": "code",
   "execution_count": 5,
   "id": "cb23da7a-ea45-4a0f-a6ea-4c7edf4b7b16",
   "metadata": {},
   "outputs": [],
   "source": [
    "response= client.chat.completions.create(\n",
    "    model=\"gpt-4o\",\n",
    "    messages=[{\"role\" : \"user\",\n",
    "              \"content\": \"is it too late to join the course?\"}]\n",
    ")"
   ]
  },
  {
   "cell_type": "code",
   "execution_count": 13,
   "id": "4e3941eb-4c47-4c55-8a6d-49af3614aa20",
   "metadata": {},
   "outputs": [
    {
     "data": {
      "text/plain": [
       "\"To determine if it's too late to join a course, you'll need to consider several factors:\\n\\n1. **Enrollment Deadlines:** Check the enrollment or registration deadlines specified by the institution offering the course. Most institutions have a specific cutoff date.\\n\\n2. **Course Start Date:** Assess if the course has already started and if so, how far into the coursework the class is. Some courses allow late enrollment for a period after the official start date, but this varies.\\n\\n3. **Institution's Policies:** Different institutions have different policies regarding late enrollments. Some may allow you to join late with the instructor's permission, while others might not.\\n\\n4. **Availability:** Verify if there are still available spots in the course. Some courses have a cap on the number of participants.\\n\\n5. **Support and Resources:** Determine if you can catch up on missed work. Ask if there are resources or support available to help you quickly get up to speed.\\n\\n6. **Contact the Institution:** The best way to get a definitive answer is to contact the admissions office, course instructor, or relevant department directly.\\n\\nIf you have specific details about a course or institution, providing that information might allow for more tailored advice.\""
      ]
     },
     "execution_count": 13,
     "metadata": {},
     "output_type": "execute_result"
    }
   ],
   "source": [
    "response.choices[0].message.content"
   ]
  },
  {
   "cell_type": "code",
   "execution_count": null,
   "id": "15dd5f31-42eb-4004-9fa6-0d31381edf22",
   "metadata": {},
   "outputs": [],
   "source": []
  }
 ],
 "metadata": {
  "kernelspec": {
   "display_name": "Python 3 (ipykernel)",
   "language": "python",
   "name": "python3"
  },
  "language_info": {
   "codemirror_mode": {
    "name": "ipython",
    "version": 3
   },
   "file_extension": ".py",
   "mimetype": "text/x-python",
   "name": "python",
   "nbconvert_exporter": "python",
   "pygments_lexer": "ipython3",
   "version": "3.10.13"
  }
 },
 "nbformat": 4,
 "nbformat_minor": 5
}
